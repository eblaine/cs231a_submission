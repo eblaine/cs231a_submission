{
 "cells": [
  {
   "cell_type": "code",
   "execution_count": 1,
   "metadata": {
    "collapsed": true
   },
   "outputs": [],
   "source": [
    "import torch\n",
    "import torch.nn as nn\n",
    "from torch.nn import init\n",
    "from torch.autograd import Variable\n",
    "import torchvision\n",
    "import torchvision.transforms as T\n",
    "import torch.optim as optim\n",
    "from torch.utils.data import DataLoader\n",
    "from torch.utils.data import sampler\n",
    "import torchvision.datasets as dset\n",
    "import torchvision.models\n",
    "\n",
    "import numpy as np\n",
    "\n",
    "import matplotlib.pyplot as plt\n",
    "import matplotlib.gridspec as gridspec\n",
    "\n",
    "%matplotlib inline"
   ]
  },
  {
   "cell_type": "code",
   "execution_count": 2,
   "metadata": {
    "collapsed": true
   },
   "outputs": [],
   "source": [
    "import cv2"
   ]
  },
  {
   "cell_type": "code",
   "execution_count": 3,
   "metadata": {
    "collapsed": false
   },
   "outputs": [],
   "source": [
    "# Load object to artist ID's mapping.\n",
    "import json\n",
    "o2a = open('oid_to_artist_id.json')\n",
    "object_to_artists = json.load(o2a)"
   ]
  },
  {
   "cell_type": "code",
   "execution_count": 4,
   "metadata": {
    "collapsed": false
   },
   "outputs": [],
   "source": [
    "from utils.data_utils import *"
   ]
  },
  {
   "cell_type": "code",
   "execution_count": 5,
   "metadata": {
    "collapsed": false
   },
   "outputs": [],
   "source": [
    "dtype = torch.cuda.FloatTensor \n",
    "num_artists = 25"
   ]
  },
  {
   "cell_type": "code",
   "execution_count": 6,
   "metadata": {
    "collapsed": false
   },
   "outputs": [],
   "source": [
    "# Define number of epochs, loss, optimizer\n",
    "num_epochs = 1\n",
    "criterion = nn.CrossEntropyLoss()\n",
    "\n",
    "initial_lr = 1e-1"
   ]
  },
  {
   "cell_type": "code",
   "execution_count": 7,
   "metadata": {
    "collapsed": true
   },
   "outputs": [],
   "source": [
    "def compute_hog(image):\n",
    "    hog_features = []\n",
    "    image_data = image.data.cpu().numpy().astype('uint8')\n",
    "    \n",
    "    sys.stdout.flush()\n",
    "    batch_size = image.size()[0]\n",
    "    \n",
    "    hog = cv2.HOGDescriptor()\n",
    "    for i in np.arange(batch_size):\n",
    "        transposed = np.transpose(image_data[i], [1,2,0])\n",
    "        hist = hog.compute(transposed)\n",
    "        hog_features.append(hist)\n",
    "    image.cuda()\n",
    "    hog_features = np.array(hog_features)\n",
    "    hog_features = torch.autograd.Variable(torch.from_numpy(hog_features), requires_grad=True).type(torch.cuda.FloatTensor)\n",
    "    return hog_features.view(batch_size, -1)"
   ]
  },
  {
   "cell_type": "code",
   "execution_count": 8,
   "metadata": {
    "collapsed": true
   },
   "outputs": [],
   "source": [
    "def new_forward(model, x):\n",
    "\n",
    "    x_copy = x[:]\n",
    "    x = model.conv1(x)\n",
    "    x = model.bn1(x)\n",
    "    x = model.relu(x)\n",
    "    x = model.maxpool(x)\n",
    "    x = model.layer1(x)\n",
    "    x = model.layer2(x)\n",
    "    x = model.layer3(x)\n",
    "    x = model.layer4(x)\n",
    "    x = model.avgpool(x)\n",
    "    x = x.view(x.size(0), -1)\n",
    "    hog_feat = compute_hog(x_copy)\n",
    "    dropout = torch.nn.Dropout().cuda()\n",
    "    hog_feat = dropout(hog_feat)\n",
    "#     print ('x type: ' + type(x))\n",
    "#     print ('hog_feat type: ' + type(hog_feat))\n",
    "    x = torch.cat((x, hog_feat), 1)\n",
    "    x = model.fc(x)\n",
    "\n",
    "    return x"
   ]
  },
  {
   "cell_type": "code",
   "execution_count": 9,
   "metadata": {
    "collapsed": false
   },
   "outputs": [],
   "source": [
    "# Helper function to run a single epoch of a model.\n",
    "def run_epoch(object_to_artists, model, optimizer):\n",
    "#     Alexnet used this (incorrect) line\n",
    "#     optimizer = torch.optim.Adam(model.classifier.parameters(), lr=initial_lr)\n",
    "    train_losses = []\n",
    "    val_losses = []\n",
    "    train_path = 'data/train/'\n",
    "    train_batch_gen = batch_generator(train_path)\n",
    "    # Load each batch of training data.\n",
    "    print_train_loss = 0\n",
    "    batch_counter = 0\n",
    "    try:\n",
    "        while True:\n",
    "            # Load next batch as NP arrays.\n",
    "            current_batch = next(train_batch_gen)\n",
    "            X, Y = get_array_from_batch(train_path, current_batch, object_to_artists)\n",
    "            \n",
    "            # Store next batch as Torch Variables.\n",
    "            batch_input_var = torch.autograd.Variable(torch.from_numpy(X), requires_grad=True).type(torch.cuda.FloatTensor)\n",
    "            preprocessor = torch.nn.BatchNorm2d(3).cuda()\n",
    "            batch_input_pre = preprocessor(batch_input_var)\n",
    "            batch_input_var_pre = torch.autograd.Variable(batch_input_pre.data, requires_grad=True).type(torch.cuda.FloatTensor)\n",
    "            \n",
    "            batch_target_var = torch.autograd.Variable(torch.from_numpy(Y)).type(torch.cuda.LongTensor)\n",
    "            \n",
    "            # Forward pass.\n",
    "            optimizer.zero_grad()\n",
    "#             batch_output = model(batch_input_var_pre)\n",
    "            batch_output = new_forward(model, batch_input_var_pre)\n",
    "            batch_loss = criterion(batch_output, batch_target_var)\n",
    "            \n",
    "            # Backpropagate.\n",
    "            batch_loss.backward()\n",
    "            optimizer.step()\n",
    "            \n",
    "            \n",
    "            # Compute total loss.\n",
    "            train_loss = batch_loss.data[0]\n",
    "            print_train_loss += train_loss\n",
    "            batch_counter += 1\n",
    "            \n",
    "            print_count = 50    \n",
    "            if batch_counter % print_count == 0: # Print avg batch loss, every 100 mini-batches. Zero out.\n",
    "                print('[%5d] train loss: %.3f' % (batch_counter, print_train_loss / print_count))\n",
    "                train_losses.append(print_train_loss/print_count)\n",
    "                print_train_loss = 0\n",
    "\n",
    "    except StopIteration:\n",
    "        pass\n",
    "    \n",
    "    # Load validation data.\n",
    "    val_path = 'data/val/'\n",
    "    val_batch_gen = batch_generator(val_path)\n",
    "    print_val_loss = 0\n",
    "    batch_counter = 0\n",
    "    try:\n",
    "        while True:\n",
    "            # Load next batch as NP arrays.\n",
    "            current_batch = next(val_batch_gen)\n",
    "            X, Y = get_array_from_batch(val_path, current_batch, object_to_artists)\n",
    "            \n",
    "            # Forward pass.\n",
    "            batch_input_var = torch.autograd.Variable(torch.from_numpy(X), requires_grad=True).type(torch.cuda.FloatTensor)\n",
    "            preprocessor = torch.nn.BatchNorm2d(3).cuda()\n",
    "            batch_input_pre = preprocessor(batch_input_var)\n",
    "            batch_input_var_pre = torch.autograd.Variable(batch_input_pre.data, requires_grad=True).type(torch.cuda.FloatTensor)\n",
    "            \n",
    "            batch_target_var = torch.autograd.Variable(torch.from_numpy(Y), volatile=True).type(torch.cuda.LongTensor)\n",
    "            \n",
    "            # Backpropagate.\n",
    "            batch_output = new_forward(model, batch_input_var_pre)\n",
    "            batch_loss = criterion(batch_output, batch_target_var)\n",
    "                      \n",
    "            # Compute total loss.\n",
    "            val_loss = batch_loss.data[0]\n",
    "            print_val_loss += val_loss\n",
    "#             val_losses.append(val_loss)\n",
    "            batch_counter += 1\n",
    "\n",
    "            print_count = 8\n",
    "            if batch_counter % print_count == 0: # Append train loss every 10 batches.\n",
    "                print('[%5d] val loss: %.3f' % (batch_counter, print_val_loss / print_count))\n",
    "                val_losses.append(print_val_loss/print_count)\n",
    "                print_val_loss = 0\n",
    "                      \n",
    "    except StopIteration:\n",
    "        pass\n",
    "    \n",
    "    return train_losses, val_losses"
   ]
  },
  {
   "cell_type": "code",
   "execution_count": 10,
   "metadata": {
    "collapsed": true
   },
   "outputs": [],
   "source": [
    "def compute_accuracy(model, atype, object_to_artists):\n",
    "    path = 'data/' + atype \n",
    "    batch_gen = batch_generator(path)\n",
    "    num_predictions = 0\n",
    "    num_correct_predictions = 0\n",
    "    batch_size = 50\n",
    "    batch_counter = 0\n",
    "    train_batches = 100\n",
    "    \n",
    "    try:\n",
    "        while True:\n",
    "            # Load next batch as NP arrays.\n",
    "            current_batch = next(batch_gen)\n",
    "            X, Y = get_array_from_batch(path, current_batch, object_to_artists)\n",
    "            \n",
    "            # Forward pass.\n",
    "            batch_input_var = torch.autograd.Variable(torch.from_numpy(X), volatile=True).type(torch.cuda.FloatTensor)\n",
    "            preprocessor = torch.nn.BatchNorm2d(3).cuda()\n",
    "            batch_input_pre = preprocessor(batch_input_var)\n",
    "            batch_input_var_pre = torch.autograd.Variable(batch_input_pre.data, requires_grad=True).type(torch.cuda.FloatTensor)\n",
    "            \n",
    "            batch_target_var = torch.autograd.Variable(torch.from_numpy(Y), volatile=True).type(torch.cuda.LongTensor)\n",
    "            \n",
    "            # Make predictions\n",
    "            batch_output = new_forward(model, batch_input_var_pre)\n",
    "            \n",
    "            predictions = torch.max(batch_output, 1)[1]\n",
    "            \n",
    "            # Check accuracy\n",
    "            num_predictions += 50\n",
    "            num_correct_predictions += torch.sum(torch.eq(predictions, batch_target_var)).data[0]\n",
    "            \n",
    "            batch_counter += 1\n",
    "            if batch_counter == train_batches and atype == 'train':\n",
    "                raise(StopIteration)\n",
    "            \n",
    "                      \n",
    "    except StopIteration:\n",
    "        accuracy = float(num_correct_predictions) / num_predictions\n",
    "        print(atype + ' accuracy: ' + str(accuracy))\n",
    "    "
   ]
  },
  {
   "cell_type": "code",
   "execution_count": 11,
   "metadata": {
    "collapsed": true
   },
   "outputs": [],
   "source": [
    "def graph_loss(train_loss, val_loss):\n",
    "    plt.gca().cla()\n",
    "    plt.plot(train_loss, label=\"Train\")\n",
    "    plt.plot(val_loss, label=\"Val\")\n",
    "    plt.legend()\n",
    "    plt.draw()\n",
    "    return "
   ]
  },
  {
   "cell_type": "code",
   "execution_count": 12,
   "metadata": {
    "collapsed": true
   },
   "outputs": [],
   "source": [
    "def save_model(model, epoch_no, filepath_base):\n",
    "    file_path = filepath_base + str(epoch_no)\n",
    "    torch.save(model.state_dict(), file_path)"
   ]
  },
  {
   "cell_type": "code",
   "execution_count": 13,
   "metadata": {
    "collapsed": true
   },
   "outputs": [],
   "source": [
    "def load_model():\n",
    "    pass"
   ]
  },
  {
   "cell_type": "code",
   "execution_count": null,
   "metadata": {
    "collapsed": false
   },
   "outputs": [],
   "source": [
    "# Different existing architectures\n",
    "# Inception on Trevor's recommendation\n",
    "inception = torchvision.models.inception_v3(num_classes = num_artists)"
   ]
  },
  {
   "cell_type": "code",
   "execution_count": null,
   "metadata": {
    "collapsed": true
   },
   "outputs": [],
   "source": [
    "# def new_forward(model, x):\n",
    "#     x = 0\n",
    "#     x_copy = x[:]\n",
    "#     x = model.conv1(x)\n",
    "#     x = model.bn1(x)\n",
    "#     x = model.relu(x)\n",
    "#     x = model.maxpool(x)\n",
    "\n",
    "#     x = model.layer1(x)\n",
    "#     x = model.layer2(x)\n",
    "#     x = model.layer3(x)\n",
    "#     x = model.layer4(x)\n",
    "\n",
    "#     x = model.avgpool(x)\n",
    "#     x = x.view(x.size(0), -1)\n",
    "#     x = model.fc(x, x_copy)\n",
    "\n",
    "#     return x\n"
   ]
  },
  {
   "cell_type": "code",
   "execution_count": 16,
   "metadata": {
    "collapsed": false
   },
   "outputs": [],
   "source": [
    "import sys"
   ]
  },
  {
   "cell_type": "code",
   "execution_count": 17,
   "metadata": {
    "collapsed": true
   },
   "outputs": [],
   "source": [
    "def generate_predictions(model, n_batches, atype, object_to_artists):\n",
    "    path = 'data/' + atype \n",
    "    batch_gen = batch_generator(path)\n",
    "    \n",
    "    all_predictions = np.zeros((50 * n_batches))\n",
    "    all_labels = np.zeros((50 * n_batches))\n",
    "    batch_counter = 0\n",
    "\n",
    "    try:\n",
    "        while True:\n",
    "            # Load next batch as NP arrays.\n",
    "            current_batch = next(batch_gen)\n",
    "            X, Y = get_array_from_batch(path, current_batch, object_to_artists)\n",
    "            \n",
    "            # Forward pass.\n",
    "            batch_input_var = torch.autograd.Variable(torch.from_numpy(X), volatile=True).type(torch.cuda.FloatTensor)\n",
    "            preprocessor = torch.nn.BatchNorm2d(3).cuda()\n",
    "            batch_input_pre = preprocessor(batch_input_var)\n",
    "            batch_input_var_pre = torch.autograd.Variable(batch_input_pre.data, requires_grad=True).type(torch.cuda.FloatTensor)\n",
    "            \n",
    "            batch_target_var = torch.autograd.Variable(torch.from_numpy(Y), volatile=True).type(torch.cuda.LongTensor)\n",
    "            \n",
    "            # Make predictions\n",
    "            batch_output = new_forward(model, batch_input_var_pre)\n",
    "            \n",
    "            predictions = torch.max(batch_output, 1)[1]\n",
    "            predictions = predictions.view(predictions.size(0))\n",
    "            start = batch_counter * 50\n",
    "            all_predictions[start:start + 50] = predictions.data.cpu().numpy()\n",
    "            all_labels[start:start + 50] = Y\n",
    "            \n",
    "            batch_counter += 1\n",
    "            if batch_counter == n_batches:\n",
    "                raise(StopIteration)\n",
    "            \n",
    "            \n",
    "                      \n",
    "    except StopIteration:\n",
    "        pass\n",
    "    \n",
    "    return all_predictions, all_labels"
   ]
  },
  {
   "cell_type": "code",
   "execution_count": 22,
   "metadata": {
    "collapsed": false
   },
   "outputs": [],
   "source": [
    "import matplotlib.ticker as ticker\n",
    "\n",
    "def plot_confusion_matrix(model, n_categories, n_batches, atype, object_to_artists):\n",
    "    confusion = torch.zeros(n_categories, n_categories)\n",
    "    \n",
    "    predictions, labels = generate_predictions(model, n_batches, atype, object_to_artists)\n",
    "    \n",
    "    for i in range(predictions.shape[0]):\n",
    "        prediction = predictions[i]\n",
    "        label = labels[i]\n",
    "        confusion[label][prediction] += 1\n",
    "    \n",
    "    \n",
    "    # Normalize by dividing every row by its sum\n",
    "    for i in range(n_categories):\n",
    "        confusion[i] = confusion[i] / confusion[i].sum()\n",
    "\n",
    "    # Set up plot\n",
    "    fig = plt.figure()\n",
    "    ax = fig.add_subplot(111)\n",
    "    cax = ax.matshow(confusion.numpy())\n",
    "    fig.colorbar(cax, cmap='jet')\n",
    "\n",
    "    # Set up axes\n",
    "    all_categories = ['Jan Luyken',\n",
    "        'George Breitner',\n",
    "        'Reinier Vinkeles',\n",
    "        'Marius Bauer',\n",
    "        'Isaac Israels',\n",
    "        'Willem Witsen',\n",
    "        'Daniel Chodowiecki',\n",
    "        'Bernard Picart',\n",
    "        'Rembrandt van Rijn',\n",
    "        'Jacob Houbraken',\n",
    "        'Antonio Tempesta',\n",
    "        'Johannes Tavenraat',\n",
    "        'Wenceslaus Hollar',\n",
    "        'Simon Fokke',\n",
    "        'Carel Cachet',\n",
    "        'Jacob de Gheyn (II)',\n",
    "        'Romeyn de Hooghe',\n",
    "        'Meissener Manufaktur',\n",
    "        'Jacques Callot',\n",
    "        'Johann Sadeler (I)',\n",
    "        'Jozef Israels',\n",
    "        'Frans Hogenberg',\n",
    "        'Crispijn van de Passe',\n",
    "        'Jan van de Velde (II)',\n",
    "        'Virgilius Solis (I)']\n",
    "    ax.set_xticklabels([''] + all_categories, rotation=90)\n",
    "    ax.set_yticklabels([''] + all_categories)\n",
    "\n",
    "    # Force label at every tick\n",
    "    ax.xaxis.set_major_locator(ticker.MultipleLocator(1))\n",
    "    ax.yaxis.set_major_locator(ticker.MultipleLocator(1))\n",
    "\n",
    "    # sphinx_gallery_thumbnail_number = 2\n",
    "    plt.show()\n"
   ]
  },
  {
   "cell_type": "code",
   "execution_count": 20,
   "metadata": {
    "collapsed": false
   },
   "outputs": [
    {
     "name": "stdout",
     "output_type": "stream",
     "text": [
      "Epoch: 0\n",
      "[   50] train loss: 59.092\n",
      "[  100] train loss: 25.617\n",
      "[  150] train loss: 23.703\n",
      "[    8] val loss: 20.546\n",
      "[   16] val loss: 19.254\n",
      "[   24] val loss: 17.829\n",
      "train accuracy: 0.3316\n",
      "test accuracy: 0.27017543859649124\n",
      "Epoch: 1\n",
      "[   50] train loss: 15.567\n",
      "[  100] train loss: 14.589\n",
      "[  150] train loss: 17.686\n",
      "[    8] val loss: 18.181\n",
      "[   16] val loss: 20.715\n",
      "[   24] val loss: 20.903\n",
      "train accuracy: 0.4352\n",
      "test accuracy: 0.296140350877193\n",
      "Epoch: 2\n",
      "[   50] train loss: 15.323\n",
      "[  100] train loss: 14.825\n",
      "[  150] train loss: 14.297\n",
      "[    8] val loss: 23.370\n",
      "[   16] val loss: 25.779\n",
      "[   24] val loss: 19.022\n",
      "train accuracy: 0.4516\n",
      "test accuracy: 0.3049122807017544\n",
      "Epoch: 3\n",
      "[   50] train loss: 14.026\n",
      "[  100] train loss: 22.668\n",
      "[  150] train loss: 20.264\n",
      "[    8] val loss: 28.875\n",
      "[   16] val loss: 27.818\n",
      "[   24] val loss: 19.585\n",
      "train accuracy: 0.5016\n",
      "test accuracy: 0.356140350877193\n",
      "Epoch: 4\n",
      "[   50] train loss: 14.493\n",
      "[  100] train loss: 15.828\n",
      "[  150] train loss: 18.285\n",
      "[    8] val loss: 20.103\n",
      "[   16] val loss: 21.912\n",
      "[   24] val loss: 20.931\n",
      "train accuracy: 0.5288\n",
      "test accuracy: 0.3582456140350877\n",
      "Epoch: 0\n",
      "[   50] train loss: 5.819\n",
      "[  100] train loss: 3.762\n",
      "[  150] train loss: 3.614\n",
      "[    8] val loss: 9.583\n",
      "[   16] val loss: 11.404\n",
      "[   24] val loss: 9.605\n",
      "train accuracy: 0.7342\n",
      "test accuracy: 0.47964912280701755\n",
      "Epoch: 1\n",
      "[   50] train loss: 2.970\n",
      "[  100] train loss: 2.715\n",
      "[  150] train loss: 2.889\n",
      "[    8] val loss: 9.525\n",
      "[   16] val loss: 10.149\n",
      "[   24] val loss: 10.666\n",
      "train accuracy: 0.7728\n",
      "test accuracy: 0.5098245614035087\n",
      "Epoch: 2\n",
      "[   50] train loss: 2.313\n",
      "[  100] train loss: 2.014\n",
      "[  150] train loss: 1.874\n",
      "[    8] val loss: 7.472\n",
      "[   16] val loss: 9.465\n",
      "[   24] val loss: 8.348\n",
      "train accuracy: 0.8148\n",
      "test accuracy: 0.52\n",
      "Epoch: 3\n",
      "[   50] train loss: 2.016\n",
      "[  100] train loss: 1.836\n",
      "[  150] train loss: 1.678\n",
      "[    8] val loss: 8.132\n",
      "[   16] val loss: 9.213\n",
      "[   24] val loss: 8.337\n",
      "train accuracy: 0.842\n",
      "test accuracy: 0.5449122807017543\n",
      "Epoch: 4\n",
      "[   50] train loss: 1.601\n",
      "[  100] train loss: 1.502\n",
      "[  150] train loss: 1.691\n",
      "[    8] val loss: 8.290\n",
      "[   16] val loss: 8.801\n",
      "[   24] val loss: 7.222\n",
      "train accuracy: 0.862\n",
      "test accuracy: 0.5785964912280702\n"
     ]
    },
    {
     "ename": "NameError",
     "evalue": "name 'resnet_small_test' is not defined",
     "output_type": "error",
     "traceback": [
      "\u001b[1;31m---------------------------------------------------------------------------\u001b[0m",
      "\u001b[1;31mNameError\u001b[0m                                 Traceback (most recent call last)",
      "\u001b[1;32m<ipython-input-20-1fc0a47c261f>\u001b[0m in \u001b[0;36m<module>\u001b[1;34m()\u001b[0m\n\u001b[0;32m     48\u001b[0m     \u001b[0mcompute_accuracy\u001b[0m\u001b[1;33m(\u001b[0m\u001b[0mresnet_small\u001b[0m\u001b[1;33m,\u001b[0m \u001b[1;34m'test'\u001b[0m\u001b[1;33m,\u001b[0m \u001b[0mobject_to_artists\u001b[0m\u001b[1;33m)\u001b[0m\u001b[1;33m\u001b[0m\u001b[0m\n\u001b[0;32m     49\u001b[0m \u001b[1;33m\u001b[0m\u001b[0m\n\u001b[1;32m---> 50\u001b[1;33m \u001b[0mplot_confusion_matrix\u001b[0m\u001b[1;33m(\u001b[0m\u001b[0mresnet_small_test\u001b[0m\u001b[1;33m,\u001b[0m \u001b[1;36m25\u001b[0m\u001b[1;33m,\u001b[0m \u001b[1;36m100\u001b[0m\u001b[1;33m,\u001b[0m \u001b[1;34m'test'\u001b[0m\u001b[1;33m,\u001b[0m \u001b[0mobject_to_artists\u001b[0m\u001b[1;33m)\u001b[0m\u001b[1;33m\u001b[0m\u001b[0m\n\u001b[0m\u001b[0;32m     51\u001b[0m \u001b[1;31m# outfile = open('artist_classification_hog_cnn_arrays', 'w')\u001b[0m\u001b[1;33m\u001b[0m\u001b[1;33m\u001b[0m\u001b[0m\n\u001b[0;32m     52\u001b[0m \u001b[1;31m# outfile.write('TRAIN\\n')\u001b[0m\u001b[1;33m\u001b[0m\u001b[1;33m\u001b[0m\u001b[0m\n",
      "\u001b[1;31mNameError\u001b[0m: name 'resnet_small_test' is not defined"
     ]
    }
   ],
   "source": [
    "# Small resnet, pretrained, weights are being trained\n",
    "resnet_small = torchvision.models.resnet18(pretrained=True).cuda()\n",
    "\n",
    "# resnet_small.forward = new_forward\n",
    "for param in resnet_small.parameters():\n",
    "    param.requires_grad = False\n",
    "\n",
    "# resnet_small.fc = nn.Sequential (\n",
    "#                     nn.Dropout(),\n",
    "#                     nn.Linear(1032452, num_artists),\n",
    "# #                     nn.ReLU(),\n",
    "# #                     nn.Dropout(),\n",
    "# #                     nn.Linear(16383, 1024),\n",
    "# #                     nn.ReLU(),\n",
    "# #                     nn.Linear(1024, num_artists)\n",
    "#                     ).cuda()\n",
    "# resnet_small.fc = nn.Sequential(\n",
    "#                     nn.Dropout(),\n",
    "#                     nn.Linear(1032452, num_artists)\n",
    "#                     ).cuda()\n",
    "\n",
    "resnet_small.fc = nn.Linear(1032452, num_artists).cuda()\n",
    "\n",
    "optimizer1 = torch.optim.Adam(resnet_small.fc.parameters(), lr=1e-3)\n",
    "    \n",
    "resnet_sm_train_losses_full = []\n",
    "resnet_sm_val_losses_full = []\n",
    "for i in range(5):\n",
    "    print('Epoch: ' + str(i))\n",
    "    sys.stdout.flush()\n",
    "    curr_train_losses_full, curr_val_losses_full = run_epoch(object_to_artists, resnet_small, optimizer1)\n",
    "    resnet_sm_train_losses_full += curr_train_losses_full\n",
    "    resnet_sm_val_losses_full += curr_val_losses_full\n",
    "    compute_accuracy(resnet_small, 'train', object_to_artists)\n",
    "    compute_accuracy(resnet_small, 'test', object_to_artists)\n",
    "    \n",
    "# TRAIN ALL WEIGHTS!\n",
    "for param in resnet_small.parameters():\n",
    "    param.requires_grad = True\n",
    "\n",
    "optimizer2 = torch.optim.Adam(resnet_small.parameters(), lr=4e-5) # smaller for all\n",
    "for i in range(5):\n",
    "    print('Epoch: ' + str(i))\n",
    "    curr_train_losses_full, curr_val_losses_full = run_epoch(object_to_artists, resnet_small, optimizer2)\n",
    "    resnet_sm_train_losses_full += curr_train_losses_full\n",
    "    resnet_sm_val_losses_full += curr_val_losses_full\n",
    "    compute_accuracy(resnet_small, 'train', object_to_artists)\n",
    "    compute_accuracy(resnet_small, 'test', object_to_artists)\n",
    "    \n",
    "plot_confusion_matrix(resnet_small, 25, 100, 'test', object_to_artists)\n",
    "# outfile = open('artist_classification_hog_cnn_arrays', 'w')\n",
    "# outfile.write('TRAIN\\n')\n",
    "# outfile.write(str(resnet_sm_train_losses_full))\n",
    "# outfile.write('\\n')\n",
    "# outfile.write(str(resnet_sm_val_losses_full))\n",
    "# outfile.close()\n",
    "\n",
    "# graph_loss(resnet_sm_train_losses_full, resnet_sm_val_losses_full)"
   ]
  },
  {
   "cell_type": "code",
   "execution_count": 23,
   "metadata": {
    "collapsed": false
   },
   "outputs": [
    {
     "data": {
      "image/png": "[encoded data removed]",
      "text/plain": [
       "<matplotlib.figure.Figure at 0x7fadcc732a20>"
      ]
     },
     "metadata": {},
     "output_type": "display_data"
    }
   ],
   "source": [
    "plot_confusion_matrix(resnet_small, 25, 100, 'test', object_to_artists)"
   ]
  },
  {
   "cell_type": "code",
   "execution_count": null,
   "metadata": {
    "collapsed": true
   },
   "outputs": [],
   "source": []
  }
 ],
 "metadata": {
  "kernelspec": {
   "display_name": "Python 3",
   "language": "python",
   "name": "python3"
  },
  "language_info": {
   "codemirror_mode": {
    "name": "ipython",
    "version": 3
   },
   "file_extension": ".py",
   "mimetype": "text/x-python",
   "name": "python",
   "nbconvert_exporter": "python",
   "pygments_lexer": "ipython3",
   "version": "3.5.2"
  }
 },
 "nbformat": 4,
 "nbformat_minor": 0
}
